{
  "cells": [
    {
      "cell_type": "markdown",
      "source": [
        "Installing required packages"
      ],
      "metadata": {
        "id": "DUAAuQ6Wi5HS"
      }
    },
    {
      "cell_type": "code",
      "source": [
        "!pip install flask google-cloud-storage streamlit pyngrok paho-mqtt calplot twilio statsmodels pandas pmdarima sklearn"
      ],
      "metadata": {
        "id": "ElPYqRmli6bT"
      },
      "execution_count": null,
      "outputs": []
    },
    {
      "cell_type": "markdown",
      "source": [
        "Autenticating Google Cloud account"
      ],
      "metadata": {
        "id": "nWbuiXgMi4w0"
      }
    },
    {
      "cell_type": "code",
      "execution_count": 3,
      "metadata": {
        "colab": {
          "base_uri": "https://localhost:8080/"
        },
        "id": "smCvRk-eRo1r",
        "outputId": "910cfbfb-9971-4fda-e9ec-24b5935da088"
      },
      "outputs": [
        {
          "output_type": "stream",
          "name": "stdout",
          "text": [
            "Authenticated\n"
          ]
        }
      ],
      "source": [
        "from google.colab import auth\n",
        "\n",
        "auth.authenticate_user()\n",
        "print(\"Authenticated\")"
      ]
    },
    {
      "cell_type": "markdown",
      "source": [
        "Starting the Flask server"
      ],
      "metadata": {
        "id": "Qt3snDjijEnB"
      }
    },
    {
      "cell_type": "code",
      "execution_count": 4,
      "metadata": {
        "id": "xTi4zcclR6cD"
      },
      "outputs": [],
      "source": [
        "from flask import Flask, Response\n",
        "from google.cloud import storage\n",
        "from threading import Timer\n",
        "import os\n",
        "\n",
        "app = Flask(__name__)\n",
        "\n",
        "bucket_name = 'BUCKET_NAME'\n",
        "\n",
        "# Get feeding times csv file\n",
        "@app.route('/get_feed_csv')\n",
        "def get_feed_csv():\n",
        "    # Set up Google Cloud Storage client\n",
        "    storage_client = storage.Client()\n",
        "    file_name = 'data_feed.csv'\n",
        "\n",
        "    # Read the CSV file from the bucket\n",
        "    bucket = storage_client.get_bucket(bucket_name)\n",
        "    blob = storage.Blob(file_name, bucket)\n",
        "    csv_content = blob.download_as_text()\n",
        "\n",
        "    # Serve the CSV file\n",
        "    return Response(csv_content, content_type='text/csv')\n",
        "\n",
        "# Get empty dispenser times csv file\n",
        "@app.route('/get_laser_csv')\n",
        "def get_laser_csv():\n",
        "    # Set up Google Cloud Storage client\n",
        "    storage_client = storage.Client()\n",
        "    file_name = 'data_laser.csv'\n",
        "\n",
        "    # Read the CSV file from the bucket\n",
        "    bucket = storage_client.get_bucket(bucket_name)\n",
        "    blob = storage.Blob(file_name, bucket)\n",
        "    csv_content = blob.download_as_text()\n",
        "\n",
        "    # Serve the CSV file\n",
        "    return Response(csv_content, content_type='text/csv')\n",
        "\n",
        "# Get latest image\n",
        "@app.route('/get_latest_image')\n",
        "def get_latest_image():\n",
        "    # Get the blobs in the bucket\n",
        "    storage_client = storage.Client()\n",
        "    blobs = storage_client.list_blobs(bucket_name)\n",
        "\n",
        "    # Filter blobs to only get image files\n",
        "    image_extensions = {'.jpg', '.jpeg', '.png', '.bmp', '.gif'}\n",
        "    image_blobs = [blob for blob in blobs if os.path.splitext(blob.name)[1] in image_extensions]\n",
        "\n",
        "    # If no image files were found, return an error\n",
        "    if not image_blobs:\n",
        "        return Response(\"No image files found in bucket\", status=404)\n",
        "\n",
        "    # Find the latest image file\n",
        "    latest_blob = max(image_blobs, key=lambda blob: blob.time_created)\n",
        "\n",
        "    # Download the blob as bytes\n",
        "    image_bytes = latest_blob.download_as_bytes()\n",
        "\n",
        "    # Serve the image\n",
        "    return Response(image_bytes, mimetype=latest_blob.content_type)\n",
        "\n",
        "def run_flask():\n",
        "    app.run(port=5000)\n",
        "\n",
        "# Run the Flask API in a separate thread\n",
        "flask_thread = Timer(1, run_flask)\n",
        "flask_thread.start()\n"
      ]
    },
    {
      "cell_type": "markdown",
      "source": [
        "Streamlit script"
      ],
      "metadata": {
        "id": "QefT8cE6jG6U"
      }
    },
    {
      "cell_type": "code",
      "execution_count": 5,
      "metadata": {
        "id": "iS6V-J4dUKhX"
      },
      "outputs": [],
      "source": [
        "app_script = \"\"\"\n",
        "import streamlit as st\n",
        "import pandas as pd\n",
        "import requests\n",
        "from io import StringIO\n",
        "import plotly.express as px\n",
        "import paho.mqtt.client as mqtt\n",
        "import base64\n",
        "import io\n",
        "from PIL import Image\n",
        "from statsmodels.tsa.arima.model import ARIMA\n",
        "import pmdarima as pm\n",
        "\n",
        "### MQTT\n",
        "\n",
        "# Create an MQTT client\n",
        "client = mqtt.Client()\n",
        "\n",
        "# Set the username and password (Replace 'ADAFRUIT_USERNAME' and 'ADAFRUIT_KEY' with your actual username and key)\n",
        "client.username_pw_set('ADAFRUIT_USERNAME', 'ADAFRUIT_KEY')\n",
        "\n",
        "# Connect to the Adafruit IO MQTT broker\n",
        "client.connect('io.adafruit.com', 1883)\n",
        "\n",
        "### SLIDERS\n",
        "\n",
        "# Display a slider to set the daily limit\n",
        "daily_limit = st.sidebar.slider(\"Daily feeding limit\", 1, 10, 3)\n",
        "st.sidebar.write(f\"Daily feeding limit set to: {daily_limit} times\")\n",
        "\n",
        "# Publish the daily limit to the 'daily_limit' feed. Replace 'ADAFRUIT_USERNAME' with your actual username\n",
        "client.publish('ADAFRUIT_USERNAME/feeds/daily-limit', str(daily_limit))\n",
        "\n",
        "# Display a slider to set the dispensing interval (in minutes)\n",
        "dispense_interval = st.sidebar.slider(\"Minimum dispensing interval\", 1, 300, 5)\n",
        "st.sidebar.write(f\"Minimum dispensing interval set to: {dispense_interval} minutes\")\n",
        "\n",
        "# Publish the dispensing interval to the 'dispense_interval' feed. Replace 'ADAFRUIT_USERNAME' with your actual username\n",
        "client.publish('ADAFRUIT_USERNAME/feeds/min-dispense-interval', str(dispense_interval))\n",
        "\n",
        "# FETCH AND PLOT DATA\n",
        "\n",
        "# Function to fetch csv\n",
        "def fetch_csv(flask_api_url):\n",
        "    response = requests.get(flask_api_url)\n",
        "    csv_content = response.text\n",
        "\n",
        "    # Read the CSV data into a Pandas DataFrame\n",
        "    csv_file = StringIO(csv_content)\n",
        "    df = pd.read_csv(csv_file, sep=',') \n",
        "\n",
        "    # Convert the timestamp column to a datetime object\n",
        "    df['time'] = pd.to_datetime(df['time'])\n",
        "\n",
        "    return df\n",
        "\n",
        "# Function to print table and plot the data\n",
        "def plot_data(df, title):\n",
        "    # Display the data in a table\n",
        "    st.title(title)\n",
        "    st.dataframe(df['time'])\n",
        "\n",
        "    # Extract the date and hour from the timestamp\n",
        "    df['date'] = df['time'].dt.date\n",
        "    df['hour'] = df['time'].dt.hour\n",
        "\n",
        "    # Create a scatter plot of the events\n",
        "    fig = px.scatter(df, x='date', y='hour')\n",
        "\n",
        "    # Display the plot in Streamlit\n",
        "    st.plotly_chart(fig)\n",
        "\n",
        "\n",
        "# Fetch the CSV feeding data from the Flask API and plot the data\n",
        "df_feed = fetch_csv(\"http://localhost:5000/get_feed_csv\")\n",
        "plot_data(df_feed, \"Dog Feeding Times\")\n",
        "\n",
        "# Fetch the CSV laser data from the Flask API and plot the data\n",
        "df_laser = fetch_csv(\"http://localhost:5000/get_laser_csv\")\n",
        "plot_data(df_laser, \"Empty Dispenser Times\")\n",
        "\n",
        "### IMAGE \n",
        "\n",
        "\n",
        "flask_api_image_url = \"http://localhost:5000/get_latest_image\"\n",
        "\n",
        "# Function to fetch the latest image from the Google Cloud Storage\n",
        "def fetch_image():\n",
        "    response = requests.get(flask_api_image_url)\n",
        "    image_bytes = response.content\n",
        "\n",
        "    # Convert the bytes to a PIL Image\n",
        "    image = Image.open(io.BytesIO(image_bytes))\n",
        "\n",
        "    # Display the image in Streamlit\n",
        "    st.image(image, caption='Latest Image')\n",
        "\n",
        "# Fetch image when app starts\n",
        "st.title(\"Latest Image\")\n",
        "fetch_image()\n",
        "\n",
        "# Button to fetch latest image\n",
        "if st.button('Refresh Image'):\n",
        "    st.experimental_rerun()\n",
        "\n",
        "### PREDICTIONS\n",
        "\n",
        "# Predictions\n",
        "st.title(\"Predictions\")\n",
        "st.write(\"computing... This could take a while\")\n",
        "\n",
        "# Function to predict the next event times\n",
        "def predict_next_event(df, title, m_value):\n",
        "  try:\n",
        "    # Compute time difference between events in hours\n",
        "    df['time_diff'] = df['time'].diff().dt.total_seconds() / 3600\n",
        "\n",
        "    # Drop the first row which has a NaN value for 'time_diff'\n",
        "    df = df.dropna()\n",
        "\n",
        "    # Set 'time' as the index\n",
        "    df = df.set_index('time')\n",
        "\n",
        "    # Drop the first row, which will have a NaN value for time_diff\n",
        "    df = df.iloc[1:]\n",
        "\n",
        "    # Run the model\n",
        "    model = pm.auto_arima(df['time_diff'], seasonal=True, m=m_value, max_p=5, max_d=5,max_q=5, max_P=5, max_D=5,max_Q=5)\n",
        "    forecast = model.predict(n_periods=1)\n",
        "    next_event_time = df.index[-1] + pd.Timedelta(hours=float(forecast.item()))\n",
        "\n",
        "    # Print the prediction\n",
        "    st.write(f\"Predicted next {title} time: {next_event_time}\")\n",
        "\n",
        "  except (ValueError, IndexError) as e:\n",
        "    st.write(f\"Not enough data points for predicting next {title} time . Please gather more data.\")\n",
        "\n",
        "\n",
        "\n",
        "# Predict next feeding time\n",
        "predict_next_event(df_feed, \"feeding\", 4)\n",
        "\n",
        "# Predict next empty dispenser time\n",
        "predict_next_event(df_laser, \"empty dispenser\", 1)\n",
        "\n",
        "\n",
        "\"\"\"\n",
        "\n",
        "with open(\"streamlit_app.py\", \"w\") as f:\n",
        "    f.write(app_script)\n"
      ]
    },
    {
      "cell_type": "markdown",
      "source": [
        "Ngrok auth token"
      ],
      "metadata": {
        "id": "Wj89Fz2wjJMn"
      }
    },
    {
      "cell_type": "code",
      "execution_count": 8,
      "metadata": {
        "colab": {
          "base_uri": "https://localhost:8080/"
        },
        "id": "7DIXIMYWU6gp",
        "outputId": "d129df9b-a727-4766-f7a1-6a1b4311f73a"
      },
      "outputs": [
        {
          "output_type": "stream",
          "name": "stdout",
          "text": [
            "Authtoken saved to configuration file: /root/.ngrok2/ngrok.yml\n"
          ]
        }
      ],
      "source": [
        "!ngrok authtoken AUTH_TOKEN"
      ]
    },
    {
      "cell_type": "markdown",
      "source": [
        "Launching webapp"
      ],
      "metadata": {
        "id": "7e9J0UetjNu4"
      }
    },
    {
      "cell_type": "code",
      "execution_count": null,
      "metadata": {
        "colab": {
          "base_uri": "https://localhost:8080/"
        },
        "id": "YuOemWUyURRz",
        "outputId": "534e00bd-f72e-4eef-936b-3a1359bceea2"
      },
      "outputs": [
        {
          "output_type": "stream",
          "name": "stdout",
          "text": [
            "Streamlit app running at NgrokTunnel: \"https://4690-35-199-161-15.ngrok-free.app\" -> \"http://localhost:8501\"\n",
            "\n",
            "Collecting usage statistics. To deactivate, set browser.gatherUsageStats to False.\n",
            "\u001b[0m\n",
            "\u001b[0m\n",
            "\u001b[34m\u001b[1m  You can now view your Streamlit app in your browser.\u001b[0m\n",
            "\u001b[0m\n",
            "\u001b[34m  Network URL: \u001b[0m\u001b[1mhttp://100.12.0.12:8501\u001b[0m\n",
            "\u001b[34m  External URL: \u001b[0m\u001b[1mhttp://40.187.130.11:8501\u001b[0m\n",
            "\u001b[0m\n"
          ]
        }
      ],
      "source": [
        "from pyngrok import ngrok\n",
        "\n",
        "public_url = ngrok.connect(8501)\n",
        "print(f\"Streamlit app running at {public_url}\")\n",
        "!streamlit run --server.port 8501 streamlit_app.py"
      ]
    },
    {
      "cell_type": "markdown",
      "source": [
        "Launching webapp with SMS "
      ],
      "metadata": {
        "id": "7pXv4pCwjP-D"
      }
    },
    {
      "cell_type": "code",
      "execution_count": null,
      "metadata": {
        "id": "4Le-jeFckBgO"
      },
      "outputs": [],
      "source": [
        "from twilio.rest import Client\n",
        "from pyngrok import ngrok\n",
        "\n",
        "account_sid = 'ACCOUNT_SID'\n",
        "auth_token = 'AUTH_TOKEN'\n",
        "twilio_client = Client(account_sid, auth_token)\n",
        "\n",
        "public_url = ngrok.connect(8501)\n",
        "\n",
        "message = twilio_client.messages.create(\n",
        "    body=f'Streamlit app running at {public_url}',\n",
        "    from_='TWILIO_NUMBER',\n",
        "    to='YOUR_NUMBER'\n",
        ")\n",
        "\n",
        "print(f\"Streamlit app running at {public_url}\")\n",
        "!streamlit run --server.port 8501 streamlit_app.py\n"
      ]
    },
    {
      "cell_type": "markdown",
      "source": [
        "Stop all ngrok processes"
      ],
      "metadata": {
        "id": "7-ySMVsIjVR-"
      }
    },
    {
      "cell_type": "code",
      "execution_count": null,
      "metadata": {
        "id": "dntzzdy4UoeQ"
      },
      "outputs": [],
      "source": [
        "ngrok.kill()"
      ]
    }
  ],
  "metadata": {
    "colab": {
      "provenance": []
    },
    "kernelspec": {
      "display_name": "Python 3",
      "name": "python3"
    },
    "language_info": {
      "name": "python"
    }
  },
  "nbformat": 4,
  "nbformat_minor": 0
}
